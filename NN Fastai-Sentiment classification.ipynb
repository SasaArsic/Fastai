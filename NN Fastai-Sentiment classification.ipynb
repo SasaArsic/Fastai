{
 "cells": [
  {
   "cell_type": "markdown",
   "metadata": {},
   "source": [
    "# NLP with fastai "
   ]
  },
  {
   "cell_type": "code",
   "execution_count": 13,
   "metadata": {
    "hide_input": true
   },
   "outputs": [],
   "source": [
    "# Importing libraries\n",
    "\n",
    "from fastai.basics import *\n",
    "from fastai.gen_doc.nbdoc import *"
   ]
  },
  {
   "cell_type": "code",
   "execution_count": 14,
   "metadata": {},
   "outputs": [
    {
     "name": "stdout",
     "output_type": "stream",
     "text": [
      "1.0.61\n"
     ]
    }
   ],
   "source": [
    "import fastai\n",
    "from fastai.version import __version__\n",
    "print(__version__)"
   ]
  },
  {
   "cell_type": "code",
   "execution_count": null,
   "metadata": {},
   "outputs": [],
   "source": [
    "# Next application is text, so let's start by importing everything we'll need.\n",
    "from fastai.text import *"
   ]
  },
  {
   "cell_type": "code",
   "execution_count": null,
   "metadata": {},
   "outputs": [],
   "source": [
    "# Language modelling\n",
    "#First we'll fine-tune a pretrained language model on our subset of imdb."
   ]
  },
  {
   "cell_type": "code",
   "execution_count": 16,
   "metadata": {},
   "outputs": [],
   "source": [
    "imdb = untar_data(URLs.IMDB_SAMPLE)"
   ]
  },
  {
   "cell_type": "code",
   "execution_count": 17,
   "metadata": {},
   "outputs": [
    {
     "data": {
      "text/html": [],
      "text/plain": [
       "<IPython.core.display.HTML object>"
      ]
     },
     "metadata": {},
     "output_type": "display_data"
    },
    {
     "data": {
      "text/html": [],
      "text/plain": [
       "<IPython.core.display.HTML object>"
      ]
     },
     "metadata": {},
     "output_type": "display_data"
    }
   ],
   "source": [
    "data_lm = (TextList.from_csv(imdb, 'texts.csv', cols='text')\n",
    "                   .split_by_rand_pct()\n",
    "                   .label_for_lm()  # Language model does not need labels\n",
    "                   .databunch())\n",
    "data_lm.save()"
   ]
  },
  {
   "cell_type": "code",
   "execution_count": 2,
   "metadata": {},
   "outputs": [],
   "source": [
    "#`data.show_batch()` will work here as well.\n",
    "#For a language model, it shows us the beginning of each sequence of text along the batch dimension (the target being to guess the next word).\n",
    "data_lm.show_batch()"
   ]
  },
  {
   "cell_type": "code",
   "execution_count": null,
   "metadata": {},
   "outputs": [],
   "source": [
    "#Numericalization\n",
    "#Finally it is easier for machine to deal with the numbers so replace the tokens with the location of the token in the vocab:\n",
    "data_lm.train_ds[0][0].data[:10]"
   ]
  },
  {
   "cell_type": "code",
   "execution_count": 22,
   "metadata": {},
   "outputs": [
    {
     "data": {
      "text/html": [
       "<table border=\"1\" class=\"dataframe\">\n",
       "  <thead>\n",
       "    <tr style=\"text-align: left;\">\n",
       "      <th>epoch</th>\n",
       "      <th>train_loss</th>\n",
       "      <th>valid_loss</th>\n",
       "      <th>accuracy</th>\n",
       "      <th>time</th>\n",
       "    </tr>\n",
       "  </thead>\n",
       "  <tbody>\n",
       "    <tr>\n",
       "      <td>0</td>\n",
       "      <td>4.394045</td>\n",
       "      <td>3.794433</td>\n",
       "      <td>0.286559</td>\n",
       "      <td>00:06</td>\n",
       "    </tr>\n",
       "    <tr>\n",
       "      <td>1</td>\n",
       "      <td>4.138880</td>\n",
       "      <td>3.744074</td>\n",
       "      <td>0.291805</td>\n",
       "      <td>00:06</td>\n",
       "    </tr>\n",
       "    <tr>\n",
       "      <td>2</td>\n",
       "      <td>3.920166</td>\n",
       "      <td>3.734779</td>\n",
       "      <td>0.292172</td>\n",
       "      <td>00:06</td>\n",
       "    </tr>\n",
       "    <tr>\n",
       "      <td>3</td>\n",
       "      <td>3.765103</td>\n",
       "      <td>3.728585</td>\n",
       "      <td>0.292841</td>\n",
       "      <td>00:06</td>\n",
       "    </tr>\n",
       "  </tbody>\n",
       "</table>"
      ],
      "text/plain": [
       "<IPython.core.display.HTML object>"
      ]
     },
     "metadata": {},
     "output_type": "display_data"
    }
   ],
   "source": [
    "# Now let's define a language model learner. drop_mult - a hyper-parameter ,used for regularization, sets the amount of dropout. \n",
    "#If the model is over-fitting increase it, if under-fitting, we can decrease the number.\n",
    "learn = language_model_learner(data_lm, AWD_LSTM)\n",
    "learn.fit_one_cycle(4, 1e-2)\n",
    "learn.save('mini_train_lm')\n",
    "learn.save_encoder('mini_train_encoder')"
   ]
  },
  {
   "cell_type": "code",
   "execution_count": 23,
   "metadata": {},
   "outputs": [
    {
     "data": {
      "text/html": [
       "<table border=\"1\" class=\"dataframe\">\n",
       "  <thead>\n",
       "    <tr style=\"text-align: right;\">\n",
       "      <th>text</th>\n",
       "      <th>target</th>\n",
       "      <th>pred</th>\n",
       "    </tr>\n",
       "  </thead>\n",
       "  <tbody>\n",
       "    <tr>\n",
       "      <td>xxbos \" xxmaj in xxmaj xxunk xxunk , the xxmaj university of xxmaj xxunk xxunk to xxunk xxmaj xxunk xxmaj</td>\n",
       "      <td>national xxmaj xxunk , with an xxunk of xxmaj xxunk xxunk offering to xxunk the research . xxmaj xxunk xxunk</td>\n",
       "      <td>xxunk xxmaj xxunk \" \" the xxunk xxunk xxunk xxunk xxmaj , a xxunk the xxunk of xxmaj the xxunk</td>\n",
       "    </tr>\n",
       "    <tr>\n",
       "      <td>and xxunk of a \" motion picture \" . xxmaj none of the xxunk \" weird \" and impressive costumes</td>\n",
       "      <td>looked like what they were supposed to be ( i.e. the xxunk did n't look like xxunk , the xxunk</td>\n",
       "      <td>are like the they were . to be . xxmaj , xxunk xxunk n't appear like the ) but xxunk</td>\n",
       "    </tr>\n",
       "    <tr>\n",
       "      <td>xxunk n't xxunk the possible death of her beloved son . \\n \\n  xxmaj xxunk xxunk little time setting</td>\n",
       "      <td>up those to be executed , as a xxunk xxmaj xxunk ) , xxunk handsome , xxmaj all xxmaj american</td>\n",
       "      <td>xxunk be xxunk . but the xxunk of xxunk xxunk . and xxunk and xxunk xxunk xxmaj xxunk xxmaj ,</td>\n",
       "    </tr>\n",
       "    <tr>\n",
       "      <td>totally gratuitous rape . xxmaj having said all this , the first story of the relationship among the children of</td>\n",
       "      <td>the xxunk was fresh and xxunk - thanks to xxmaj xxunk xxmaj xxunk . xxbos xxmaj the year xxunk was</td>\n",
       "      <td>the xxmaj is a and xxunk . xxunk to the xxunk 's xxunk 's xxmaj xxmaj the film 's is</td>\n",
       "    </tr>\n",
       "    <tr>\n",
       "      <td>on actual events . xxmaj reagan was shot and the other characters were real people . xxmaj the movie got</td>\n",
       "      <td>that right . xxmaj from there on , xxunk on facts xxunk xxunk . i had never heard of this</td>\n",
       "      <td>a feeling . xxmaj it the , , i , the , the . xxmaj was to seen of this</td>\n",
       "    </tr>\n",
       "  </tbody>\n",
       "</table>"
      ],
      "text/plain": [
       "<IPython.core.display.HTML object>"
      ]
     },
     "metadata": {},
     "output_type": "display_data"
    }
   ],
   "source": [
    "# Then we can have a look at the results.\n",
    "#It shows a certain amount of words (default 20), then the next 20 target words and the ones that were predicted.\n",
    "learn.show_results()"
   ]
  },
  {
   "cell_type": "code",
   "execution_count": 24,
   "metadata": {},
   "outputs": [
    {
     "data": {
      "text/plain": [
       "\"When I saw this movie the second time it had been pulled from the player 's cover , other than that , there was a flat hole . Some of the limits here were standing surfers at the foot . Once the movie had entered stock , it is very difficult to tell how they were on the thomas , such as wesley borders . If you are forced to take you down with the doors for as much as possible , i decided none of it should be released in evening . Often that is pretty easy or difficult to follow ( up\""
      ]
     },
     "execution_count": 24,
     "metadata": {},
     "output_type": "execute_result"
    }
   ],
   "source": [
    "learn.predict('When I saw this movie the second time', 100)\n"
   ]
  },
  {
   "cell_type": "code",
   "execution_count": 25,
   "metadata": {},
   "outputs": [
    {
     "data": {
      "text/plain": [
       "'As I was going up the stair I met a man who wasn\\'t there. i caught her from a train at that corner so i never expected to see some \" clown who was wear to the best . i ca not believe that the color of being too endearing . i behold of the Death of Brilliance . They are supposed to believe him to be in his pet , Modesty , and again to explain how almost made it in life . \" The woman had commented if she was not there . This is a matter of Old Testament . more information and'"
      ]
     },
     "execution_count": 25,
     "metadata": {},
     "output_type": "execute_result"
    }
   ],
   "source": [
    "learn.predict('As I was going up the stair I met a man who wasn\\'t there.', 100)"
   ]
  },
  {
   "cell_type": "markdown",
   "metadata": {},
   "source": [
    "### Classification"
   ]
  },
  {
   "cell_type": "code",
   "execution_count": 38,
   "metadata": {},
   "outputs": [
    {
     "data": {
      "text/html": [],
      "text/plain": [
       "<IPython.core.display.HTML object>"
      ]
     },
     "metadata": {},
     "output_type": "display_data"
    },
    {
     "data": {
      "text/html": [],
      "text/plain": [
       "<IPython.core.display.HTML object>"
      ]
     },
     "metadata": {},
     "output_type": "display_data"
    },
    {
     "name": "stderr",
     "output_type": "stream",
     "text": [
      "/opt/conda/lib/python3.7/site-packages/fastai/data_block.py:541: UserWarning: You are labelling your items with CategoryList.\n",
      "Your train set contained the following unknown labels, the corresponding items have been discarded.\n",
      "Cheech & Chong's Next Movie (1980) was the second film to star to pot loving duo of Cheech Marin and Tommy Chong. The lovable burn out smokers are now roommates. They live in a condemned building looking for ways to score more smoke and just lay about all day. But Cheech is the \"responsible\" one. He has a job and a steady girlfriend. One day, Cheech wants to get his freak on so he tries to get Chong out of the house. Another problem arises as well, Cheech's brother \"Red\" (Cheech is another role) is in town and wants to hang with him. Firguring that he could kill two birds with one stone, Cheech pawns Chong off and Red. What kind of adventures will Chong and Red get into? Will Cheech get his freak on? How long will Chong go without some smoke? Just watch CHEECH & CHONG'S NEXT MOVIE to find out!!<br /><br />Tommy Chong takes over the directorial reigns for the sequel. He received some experience when he did some uncredited work on UP IN SMOKE. Funny but not as good as the first film. But Cheech and Chong fans will enjoy it. Followed by NICE DREAMS.<br /><br />Recommended., Well, what can I say.<br /><br />\"What the Bleep do we Know\" has achieved the nearly impossible - leaving behind such masterpieces of the genre as \"The Postman\", \"The Dungeon Master\", \"Merlin\", and so fourth, it will go down in history as the single worst movie I have ever seen in its entirety. And that, ladies and gentlemen, is impressive indeed, for I have seen many a bad movie.<br /><br />This masterpiece of modern cinema consists of two interwoven parts, alternating between a silly and contrived plot about an extremely annoying photographer, abandoned by her husband and forced to take anti-depressants to survive, and a bunch of talking heads going on about how quantum physics supposedly justifies their new-agy pseudo-philosophy. Basically, if you start your day off meditating to the likes of Enya and Kenny G, this movie is for you. If you have a sense of humor, a crowd of people who know how to have fun, and a sizable portion of good weed, then this movie is for you as well. Otherwise, stay away. Take my word for it.<br /><br />The first thing that struck me about \"What the Bleep do you Know\" is that is seemed to be edited and put together by the same kinds of people that shoot cheap weddings on camera, complete with pink heart effects, computer-generated sparkles across the screen, and other assorted silliness. Who let these people anywhere near a theatrical release is a mystery to me. I guess this is what too much Kenny G does to you. The movie was permeated with cheesy GCI, the likes that you or I can produce on our own computer via over-the-counter video editing software, but never would, because it's just way too ridiculous.<br /><br />The script was _obviously_ written by someone with no writing experience whatsoever. Not only were all the characters and conversations cumbersome and contrived beyond belief, but the \"writers\" felt like they had to shove every relevant piece of information, or rather disinformation, which is what most of this movie was all about, all the way down your throat. Well, given the target audience, that may not have been too bad of an idea. The main character, for example, spends half the movie popping pills. Apparently, though, it was deemed not convincing enough, so there are at least a couple of dialogs in throughout, which refer to her anti-anxiety pills specifically, just in case the viewers should not be able to connect her overacted pain and suffering with little white pills she takes whenever she feels down. The acting... Well, I've seen better acting in Ed Wood movies, and no, this is not an exaggeration. Heck, the little play I was in when I was 12 featured much more inspiring acting than this. It really did.<br /><br />The story is interrupted here and there with a bunch or random talking heads, a strange mix of kooky scientists, kooky doctors, and self-proclaimed mystics, go on and on about how quantum physics supposedly provides an \"explanation\" for how ever man or woman created their own reality just by participating in the experience of life. Reality, you see, is a probability-field of a bunch of different possibilities, and is only set in stone once you the Observer chose to notice it. What happens when more than one Observer Observes they didn't say, but then again who cares. Listen to Enya, meditate, Observe, and you shall be God, and nobody gives a damn about such silly and archaic things as critical thinking, logic, etc. All reason is immediately dismissed as people being stuck in their ways and unable to achieve a \"paradigm shift\" and \"go down the rabbit hole\". Furthermore, the Heidelberg Uncertainty Principle supposedly is proof positive of alternate realities, parallel universes, and such.<br /><br />Speaking of rabbit holes, the analogy permeates the movie. All of these people keep talking about going down rabbit holes. I'm not sure what that had to do with anything else they were saying or showing, but one thing I'm certain of is that it somehow involves anal sex. Actually, the movie is _extremely_ anti-sex. Throughout, sex is presented as dirty, ugly, and anti-enlightening.<br /><br />In any case, the talking heads talk, the main character achieves harmony and enlightenment by painting hearts all over her body with a magic marker, and proceeds to walk around with an even stupider look in her glazed over eyes than she started with.<br /><br />I want 2 hours of my life back.<br /><br />Here's a couple of random quotes which I happened to remember:<br /><br />\"What I think of as unreal has become a lot more real to me, and that, which I used to consider real, is oftentimes a lot less real than the unreal.\" - Some talking head on the spirituality of quantum physics.<br /><br />\"What does it take for one man to have an erection? It takes just one thought. Nothing changes on the outside, all the changes are within. An yet he has an erection\" - Some self proclaimed mystic, head of her own school of enlightenment.<br /><br />[while looking at herself in the mirror] \"I hate you! I hate you! You're fat! You're ugly! I have you!\" - main character, the fat and ugly photographer., College girl Joanne Murray takes on the unenviable job of readying the student housing building to become apartments,which includes selling the unneeded furniture This takes place during a break,so a mysterious psycho is stalking the nearly-empty premises on campus.\"Dorm that Dripped Blood\" is a low-budget slasher flick that is quite entertaining.The acting is pretty bad,the plot is predictable,but the gore effects are quite good.The film was made by UCLA film students Stephen Carpenter and Jeffrey Obrow for next to nothing.Soon a dreamy ambiance kicks in,very similar to the enveloping forests of Jeff Leiberman's fantastic \"Just Before Dawn\".7 out of 10.It's great to see Daphne Zuniga of \"The Initiation\" fame run over few times by a car., If you really enjoyed the 2002 Resident Evil movie, then you should just see it instead of waisting 2 hours you'll never get back. I can not believe that no one has commented that this movie is just a cheap knock off of RE. First, a \"special\" commando force is the unique defense for a facility with a computer matrix that has an AI and holographic projection. And this \"Hive\" rip-off has a series of traps that inevitably kill off one member of the squad at a time. There's even a chess reference in the code names, which was in the dialog of RE. Despite the fact that there are no zombies, the \"Rook\", the movie's nemesis, is some sort of bio-creature, very pail in color suggesting necrotic tissue, with a lot of cyborg components just like a super mutant of RE. So, a wag-of-the-finger to Mr. Richard Taylor for claiming any credit for this story.<br /><br />They are not the same movie obviously, but the writer got the idea watching Resident Evil I think., \"Look, I know this may suck right now, but pain is temporary, film is forever. Whatever you do right now is burned into celluloid for all time and for thousands of years to come.\"  Robert De Niro<br /><br />This was initially a film for Steven Spielberg, the director hiring several screenwriters to adjust the screenplay so that it more suited his themes. And so we have a dysfunctional family that is threatened by a deranged monster in the form of a recently released from prison Robert De Niro. Like \"Jurassic Park\", \"Poltergeist\" and \"War of the Worlds\", the dysfunctional family bands together to defeat the beast, the beast being the creation of the father, a lawyer who failed to defend De Niro during his trial. <br /><br />In typical Spielberg fashion, the father kills the monster that undermines the family and is then promptly absolved of his sins. Like Oscar Schindler, Robin Williams, Sam Niel, Tom Cruise and virtually every \"daddy\" figure in Spielberg land, the father reclaims his paternal duty in the kind of bittersweet coda that Spielberg so enjoys.<br /><br />But Spielberg eventually abandoned the picture and the project was instead turned over to Martin Scorsese, who at the time was seeking to try his hand at more commercial fare. The result is arguably the worst film in Scorsese's filmography, and, ironically, his most illuminating.<br /><br />An artist's failures or misfires are often very revealing, exposing the inner workings of their art. When the story doesn't work, the characters don't connect or the images don't sear, we find ourselves left with a kind of inner core. This  the remaining carcass- is what the director's cinema is about.<br /><br />Now \"Cape Fear\" is an impersonal film, so we won't find any thematic connections to the rest of Scorsese's filmography (\"You already sacrificed me!\" De Niro yells, but the films themes of Catholic redemption are cookie cutter). What the film does, though, is expose the kind of language that his filmography hinges on. Watch how Scorsese's camera desperately whips back and forth, how he zooms frantically onto doorknobs and windows in an attempt to force tension and how his characters are all loud and screaming for attention. But more importantly, watch how the film makes no spatial sense. A showdown on a boat at the end of the film takes place on an obvious sound-stage, a street parade is claustrophobic and takes place within no larger context and the family's house doesn't seem to exist anywhere in particular. There is simply no geographical sense to anything in the picture, Scorsese unable to film space or create any kind of spatial environment. <br /><br />The reason for this is that Scorsese's camera always has to be bound, or intimately tethered, to his central character. For the world around the character to make sense, his camera has to be focused on the character. Resnais can take you around a French Hotel, Welles and Hitchcock can dance you down a street and up a building, Cameron can give you a tour of the Titanic, Scott can recreate an entire future cityscape, Lucas can give you an alien desert planet, and most other directors can create a sense of space by textbook \"close up-mid shot-wide shot\" combinations, but Scorsese can't do this. There's no poetry, no sense of tangible space in his films. He's all about the character. You break that tether, you leave that boxing ring, that taxi cab, you look away from De Niro, and everything collapses. He simply cannot break away from this very documentarian style of shooting, which, in a way, is a prerequisite for action film-making.<br /><br />Scorsese tried to rectify this problem with \"Gangs of New York\", where the space and the sets become the central character, but even this self consciously spatial experiment gets sabotaged by the magnetism of Daniel Day Lewis, the actor drawing Scorsese's camera inexorably toward him like a moth to a bulb.<br /><br />5/10  Even as a generic B-movie, this is an ugly, vulgar looking film. Look at the matte paintings, the inept attempts at tension, the silly rotorscoped special effects and hokey fistfight showdown. Still, we have Robert De Niro to pick up the slack. De Niro, who gives his body over to Scorsese like a tattooed Christ, gives the film its only great scene. In an improvised romantic sequence with young a Juliette Lewis, he sticks his thumb into her mouth and kisses her. A kind of symbolic rape, the girl runs away, both aroused and repelled by this man's interest.<br /><br />But De Niro's performance, so deliciously over the top, simply can't be imitated by Scorsese. You'd need the operatic tone and the baroque visuals of someone like De Palma to make this work. But Scorsese? Nope.<br /><br />Worth one viewing....\n",
      "  if getattr(ds, 'warn', False): warn(ds.warn)\n",
      "/opt/conda/lib/python3.7/site-packages/fastai/data_block.py:541: UserWarning: You are labelling your items with CategoryList.\n",
      "Your valid set contained the following unknown labels, the corresponding items have been discarded.\n",
      "Bonanza had a great cast of wonderful actors. Lorne Greene, Pernell Whitaker, Michael Landon, Dan Blocker, and even Guy Williams (as the cousin who was brought in for several episodes during 1964 to replace Adam when he was leaving the series). The cast had chemistry, and they seemed to genuinely like each other. That made many of their weakest stories work a lot better than they should have. It also made many of their best stories into great western drama.<br /><br />Like any show that was shooting over thirty episodes every season, there are bound to be some weak ones. However, most of the time each episode had an interesting story, some kind of conflict, and a resolution that usually did not include violence. While Bonanza was a western, the gunfighting was never featured as the main attraction. While I am a fan of The Rifleman and Wanted: Dead Or Alive; those shows usually ended with a gunfight. Gunfights were how many westerns resolved every conflict, and Bonanza was very different in trying to seek peaceful resolutions and harmony instead of killing.<br /><br />In the early years of Bonanza, there are some interesting episodes that do feature a lot of gunfights. Those episodes stand in contrast to the rest of the series, but they are pretty good in and of themselves. In 1964, when Pernell Whitaker wanted to leave the show, Guy Williams was brought in to replace him. Williams was playing the role of a long-lost cousin. Unfortunately, Whitaker decided to stay one more year, and thus Williams was written out of the series when he moved away to marry Adam's old girlfriend. If Williams had stayed on for the duration of Bonanza, one can only wonder how much better the series would have been in the years after 1965, when Pernell Whitaker left the show.<br /><br />Undoubtedly, once Pernell Whitaker left the series, the stories focused more on comedy and country hijinks. Whitaker had often played the heavy in many episodes, and his absence left a void in the cast. Little Joe always wanted to play the nice kid, and Hoss always wanted to play the good old boy with a heart of gold. Since Ben was the kind and wise patriarch of the family, that did not leave too much room for any gunfights.<br /><br />At some point they hired a ranch hand called Candy (David Canary) who became their fourth member of the cast, but Candy was never featured in any gunfights, and he was hardly more than an older version of Little Joe. For a year or two they also had Ben take in some other lost cousin (Jamie, played by the forgettable Mitch Vogel) who was a teenager that was usually getting into some kind of trouble with someone.<br /><br />Apparently by adding the teenager, the studio was looking to attract younger viewers. It also gave the writers a chance to write episodes about teenage problems, alcohol, delinquency, etc. Those kind of preachy episodes were popular in the 1960s as a reaction of the establishment media to the counter-culture movement. Dragnet was probably the most popular source of law and order TV, though Hawaii 5-0, The F.B.I. and many other shows also tried to jump on the bandwagon by doing TV shows that featured irresponsible teenagers causing mischief, mayhem, and crime.<br /><br />The addition of a teenager to the cast gave the Cartwrights more chances to show up and solve problems, but those episodes feel very contrived and are not very good in general. After Dan Blocker died, the series limped along for another year or so before it was canceled. The last season was pretty bad, as it featured Little Joe tracking down the killers of his wife, and most of the episodes were somewhat depressing because Little Joe was usually drinking or otherwise remembering how much he loved his wife, and how unfair it was that she was killed.<br /><br />I don't think I have ever seen the last episode of the series, and I wonder if they ever officially wrapped it up in some way. By the last year, there was only Ben (Lorne Greene) actually living on the Ponderosa, as Adam had moved away (and never came back even once as a guest) and Hoss had died and Little Joe had left after his wife (in the series) had been killed by drifters.<br /><br />Overall, the era from 1959-1965 is the best of this series. Once Adam left, it slowly declined. Most of the shows before 1970 are pretty good too. By 1970, the series was trying to hard to be hip and topical, and it had lost a lot of its western flavor. The addition of Candy and the teenage kid also diluted the general quality of the show, and the death of Hoss (Dan Blocker) was the final nail. Bonanza is probably the best western series ever made, and of the 465 episodes that were produced, at least one hundred of them are excellent western drama! That is a pretty good record. Even the worst of Bonanza is better than a lot of other TV shows., Canadians are too polite to boo but the audience at the Toronto Film Festival left the theater muttering that they would rate this film 0 or 1 on their voting sheets. The premise is that a modern filmmaker is interpreting a 17th century fable about the loves of shepherds and shepherdesses set in the distant past when Druids were the spiritual leaders. Working in three epochs presents many opportunities to introduce anachronisms including silly and impractical clothing and peculiar spiritual rites that involve really bad poetry. Lovers are divided by jealousy and their rigid adherence to idiotic codes of conduct from which cross-dressing and assorted farcical situations arise. The film could have been hilarious as a Monty Python piece, which it too closely resembles, but Rohmer's effort falls very flat. The audience laughed at the sight jokes but otherwise bemoaned the slow pace. The ending comes all in a rush and is truly awful. This is a trivial film and a waste of your movie going time., We've all been there, sitting with some friends watching a bad movie, laughing at how terribly it was made and how poor the acting was; eventually the credits roll and everyone looks around and says \"how is it possible such a movie was made? who paid money to have this script made into a feature film?\" Well Jigsaw is not that kind of film, instead of asking how this garbage was budgeted you wonder why the makers were shot out of a cannon into the sun. Yes, Jigsaw is quite possibly the worst movie ever made or conceived, this coming from a guy who has seen Campfire Stories and Fever Lake. The film starts out in some kind of college class, what kind of class I am unsure, but it is imagined to be an art class. Now these dorks have been given a final project by their idiot teacher, five of them are given pieces of a mannequin and told to design it in any way they see fit, and since there are only five pieces the other students in the class receive and automatic A, oddly enough there are only six students in this entire class so the one goth chic gets a free A, good for her! A week passes and the five students, plus teacher, plus one hillbilly husband meet in a bar to discuss their and complete their project, they put the pieces together, head, arms, legs and inform the others why they chose their specifics designs, now these creative geniuses used the week to their full advantage, one puts a saw blade in the left hand, the other gets a sawed off shotgun, the right leg gets a bunch of broken ceramic glued to it and the left some magazine clippings, the head is the worst getting a camera in the eye, ala Hellraiser 3, with some bottle rockets for a stylish mo-hawk. After they have all spilled their guts about their specifics designs the now drunk teacher says they are to burn the mannequin, now aptly named Jigsaw. Now up to this point it has been standard horrible movie fair, bad acting, dialog and everything else, but has still been pretty plausible, yet after Jigsaw catches fire things take a turn for the worst...Jigsaw comes alive.. How you ask? I have no idea, he just does because the writers couldn't think of a realistic way for two pounds worth of molded plastic to become alive (Come on guys, a bolt of lighting, a traveling voodoo priest, anything could have worked.) So once Jigsaw comes to life he uses his new abilities of walking very slow and stilted with the use of his molded fingers to wreak havoc. First he kills the cool guy with some barb wire, this guy who was about to get it on with a hot chic decides drinking ground beer off in the distance is more important than what is in front of him. With him gone Jigsaw shoots the sexy girl in the face and then gives an old man a heart attack with a slight twist of his head, he then saws up a nasty looking southern woman and then her hillbilly husband; Jigsaw then kills the nerdy guy with some headless deception. Did I mention Jigsaw was taking body parts off his victims to make a human version of himself? No! Well its not important they don't even show his macabre creation, they don't even show him steal away a torso from his poor creators (Maybe he was trying to create the head detective from In Living Color). So after these five have been killed the teacher and the nerdy girl are all who is left, the teacher figures out that Jigsaw only needs a head to finish his masterpiece, since he is still uninterested in that torso thing. So being the coward he is the teacher ties up the girl as a sacrifice to Jigsaw who comes in only to go for the teacher with his electric buzz saw which isn't even plugged in. That is where the freaking movie ends, we don't even get to see the teacher get killed or what happens to the girl, let alone an explanation why Jigsaw came to life or how he cleaned himself off after being burned. This movie is so shameful it has too be seen, it is only 71 minutes so it is a small part of your day; For the memories of a lifetime, Jigsaw, Jigsaw, Jigsaw. Thank you Total Recall! The Judge has ruled, watch Jigsaw only if your plans of severing off your genitals seems played out., This film is one of Tom Cruise's finest films. He captures the audiences imaginations with his role of David Aames. His character can relate to us all in some way.The story line is very clever and keeps the audience on edge throughout the whole film. I never really watched Cruise movies that much before but after seeing this it shows me his true talent. My favourite part in the movie is the end where it all comes to a big conclusion and he find out the truth. If you have not seen this yet you definitely should give it a try. It's one of those films that once you've started watching it you just got to see it until the end or it will keep you thinking and you will regret it. My opinion is you should just go buy it and take a risk thats what I did and it became one of my favourite films of all time. It's A* 10/10 I promise once you watch it, it will stick with you and you will like it forever., This has to be the cheapest film made in 21st century. It is all the way low quality, but at the end it falls below... everything. All the cheap tricks - like flashing and darkness - are used to hide those crappy computer effects.<br /><br />All the actors are below average, especially the main character Anne Fletcher (Simmone Mackinnon). There is a scene, where Anne is asked: \"Why you seem so careless?\" The correct answer is, because she can't act. No matter what happens (the world is about to be destroyed, her friend is dying, she is fired), she has the same stupid grin in her face.<br /><br />It is not only the movie, which is B -quality. It is also the back cover description (at least in Finland). The text mentions things like Lorica Gray -vessel, Capital -vessel and main character Garrison Harper and Anna (not Anne) Fletcher. The description sounds like a different movie, both featuring character called Fletcher and sea monsters...\n",
      "  if getattr(ds, 'warn', False): warn(ds.warn)\n"
     ]
    }
   ],
   "source": [
    "# Now let's see a classification example. We have to use the same vocabulary as for the language model if we want to be able to use the encoder we saved.\n",
    "data_clas = (TextList.from_csv(imdb, 'texts.csv', cols='text', vocab=data_lm.vocab)\n",
    "                   .split_from_df(col='is_valid')\n",
    "                   .label_from_df(cols='label')\n",
    "                   .databunch(bs=42))"
   ]
  },
  {
   "cell_type": "code",
   "execution_count": null,
   "metadata": {},
   "outputs": [],
   "source": [
    "# Here show_batch shows the beginning of each review with its target.\n",
    "data_clas.show_batch()"
   ]
  },
  {
   "cell_type": "code",
   "execution_count": 28,
   "metadata": {},
   "outputs": [
    {
     "data": {
      "text/html": [
       "<table border=\"1\" class=\"dataframe\">\n",
       "  <thead>\n",
       "    <tr style=\"text-align: left;\">\n",
       "      <th>epoch</th>\n",
       "      <th>train_loss</th>\n",
       "      <th>valid_loss</th>\n",
       "      <th>accuracy</th>\n",
       "      <th>time</th>\n",
       "    </tr>\n",
       "  </thead>\n",
       "  <tbody>\n",
       "    <tr>\n",
       "      <td>0</td>\n",
       "      <td>0.619012</td>\n",
       "      <td>0.670799</td>\n",
       "      <td>0.560000</td>\n",
       "      <td>00:05</td>\n",
       "    </tr>\n",
       "    <tr>\n",
       "      <td>1</td>\n",
       "      <td>0.562290</td>\n",
       "      <td>0.589769</td>\n",
       "      <td>0.690000</td>\n",
       "      <td>00:05</td>\n",
       "    </tr>\n",
       "    <tr>\n",
       "      <td>2</td>\n",
       "      <td>0.521820</td>\n",
       "      <td>0.660863</td>\n",
       "      <td>0.640000</td>\n",
       "      <td>00:05</td>\n",
       "    </tr>\n",
       "    <tr>\n",
       "      <td>3</td>\n",
       "      <td>0.490477</td>\n",
       "      <td>0.447049</td>\n",
       "      <td>0.770000</td>\n",
       "      <td>00:06</td>\n",
       "    </tr>\n",
       "    <tr>\n",
       "      <td>4</td>\n",
       "      <td>0.460227</td>\n",
       "      <td>0.425715</td>\n",
       "      <td>0.810000</td>\n",
       "      <td>00:05</td>\n",
       "    </tr>\n",
       "    <tr>\n",
       "      <td>5</td>\n",
       "      <td>0.441030</td>\n",
       "      <td>0.434167</td>\n",
       "      <td>0.805000</td>\n",
       "      <td>00:05</td>\n",
       "    </tr>\n",
       "  </tbody>\n",
       "</table>"
      ],
      "text/plain": [
       "<IPython.core.display.HTML object>"
      ]
     },
     "metadata": {},
     "output_type": "display_data"
    }
   ],
   "source": [
    "# And we can train a classifier that uses our previous encoder.\n",
    "learn_cl = text_classifier_learner(data_clas, AWD_LSTM, drop_mult=0.5)\n",
    "learn_cl.load_encoder('mini_train_encoder')\n",
    "learn_cl.fit_one_cycle(6, slice(1e-3,1e-2))\n",
    "learn_cl.save('mini_train_clas')"
   ]
  },
  {
   "cell_type": "code",
   "execution_count": 29,
   "metadata": {},
   "outputs": [
    {
     "data": {
      "text/html": [
       "<table border=\"1\" class=\"dataframe\">\n",
       "  <thead>\n",
       "    <tr style=\"text-align: left;\">\n",
       "      <th>epoch</th>\n",
       "      <th>train_loss</th>\n",
       "      <th>valid_loss</th>\n",
       "      <th>accuracy</th>\n",
       "      <th>time</th>\n",
       "    </tr>\n",
       "  </thead>\n",
       "  <tbody>\n",
       "    <tr>\n",
       "      <td>0</td>\n",
       "      <td>0.425349</td>\n",
       "      <td>0.499905</td>\n",
       "      <td>0.770000</td>\n",
       "      <td>00:05</td>\n",
       "    </tr>\n",
       "    <tr>\n",
       "      <td>1</td>\n",
       "      <td>0.408953</td>\n",
       "      <td>0.488285</td>\n",
       "      <td>0.785000</td>\n",
       "      <td>00:05</td>\n",
       "    </tr>\n",
       "  </tbody>\n",
       "</table>"
      ],
      "text/plain": [
       "<IPython.core.display.HTML object>"
      ]
     },
     "metadata": {},
     "output_type": "display_data"
    }
   ],
   "source": [
    "learn_cl.fit_one_cycle(2, slice(1e-3,1e-2), moms=(0.8, 0.7))"
   ]
  },
  {
   "cell_type": "code",
   "execution_count": 30,
   "metadata": {},
   "outputs": [
    {
     "data": {
      "image/png": "[encoded data removed]",
      "text/plain": [
       "<Figure size 432x288 with 1 Axes>"
      ]
     },
     "metadata": {
      "needs_background": "light"
     },
     "output_type": "display_data"
    }
   ],
   "source": [
    "learn_cl.recorder.plot_losses()"
   ]
  },
  {
   "cell_type": "code",
   "execution_count": 31,
   "metadata": {},
   "outputs": [
    {
     "data": {
      "text/html": [
       "<table border=\"1\" class=\"dataframe\">\n",
       "  <thead>\n",
       "    <tr style=\"text-align: right;\">\n",
       "      <th>text</th>\n",
       "      <th>target</th>\n",
       "      <th>prediction</th>\n",
       "    </tr>\n",
       "  </thead>\n",
       "  <tbody>\n",
       "    <tr>\n",
       "      <td>xxbos \\n \\n  i 'm sure things did n't exactly go the same way in the real life of xxmaj homer xxmaj hickam as they did in the film adaptation of his book , xxmaj rocket xxmaj boys , but the movie \" xxmaj october xxmaj sky \" ( an xxunk of the book 's title ) is good enough to stand alone . i have not read xxmaj</td>\n",
       "      <td>positive</td>\n",
       "      <td>positive</td>\n",
       "    </tr>\n",
       "    <tr>\n",
       "      <td>xxbos xxmaj to review this movie , i without any doubt would have to quote that memorable scene in xxmaj tarantino 's \" xxmaj pulp xxmaj fiction \" ( xxunk ) when xxmaj jules and xxmaj vincent are talking about xxmaj mia xxmaj wallace and what she does for a living . xxmaj jules tells xxmaj vincent that the \" xxmaj only thing she did worthwhile was pilot \" .</td>\n",
       "      <td>negative</td>\n",
       "      <td>negative</td>\n",
       "    </tr>\n",
       "    <tr>\n",
       "      <td>xxbos xxmaj how viewers react to this new \" xxunk \" of xxmaj xxunk xxmaj jackson 's book , which was promoted as xxup not being a remake of the original 1963 movie ( true enough ) , will be based , i suspect , on the following : those who were big fans of either the book or original movie are not going to think much of this one</td>\n",
       "      <td>negative</td>\n",
       "      <td>negative</td>\n",
       "    </tr>\n",
       "    <tr>\n",
       "      <td>xxbos xxmaj the trouble with the book , \" xxmaj memoirs of a xxmaj geisha \" is that it had xxmaj japanese xxunk but underneath the xxunk it was all an xxmaj american man 's way of thinking . xxmaj reading the book is like watching a magnificent ballet with great music , sets , and costumes yet performed by xxunk animals dressed in those xxunk far from xxmaj japanese</td>\n",
       "      <td>negative</td>\n",
       "      <td>negative</td>\n",
       "    </tr>\n",
       "    <tr>\n",
       "      <td>xxbos xxmaj bonanza had a great cast of wonderful actors . xxmaj xxunk xxmaj xxunk , xxmaj pernell xxmaj whitaker , xxmaj michael xxmaj xxunk , xxmaj dan xxmaj blocker , and even xxmaj guy xxmaj williams ( as the cousin who was brought in for several episodes during 1964 to xxunk xxmaj adam when he was leaving the series ) . xxmaj the cast had chemistry , and they</td>\n",
       "      <td>positive</td>\n",
       "      <td>negative</td>\n",
       "    </tr>\n",
       "  </tbody>\n",
       "</table>"
      ],
      "text/plain": [
       "<IPython.core.display.HTML object>"
      ]
     },
     "metadata": {},
     "output_type": "display_data"
    }
   ],
   "source": [
    "learn_cl.show_results()"
   ]
  },
  {
   "cell_type": "code",
   "execution_count": 32,
   "metadata": {},
   "outputs": [
    {
     "data": {
      "text/html": [],
      "text/plain": [
       "<IPython.core.display.HTML object>"
      ]
     },
     "metadata": {},
     "output_type": "display_data"
    },
    {
     "data": {
      "image/png": "[encoded data removed]",
      "text/plain": [
       "<Figure size 432x288 with 1 Axes>"
      ]
     },
     "metadata": {
      "needs_background": "light"
     },
     "output_type": "display_data"
    }
   ],
   "source": [
    "preds, y, losses = learn_cl.get_preds(with_loss=True)\n",
    "interp = ClassificationInterpretation(learn_cl, preds, y, losses)\n",
    "interp.plot_confusion_matrix()"
   ]
  },
  {
   "cell_type": "code",
   "execution_count": null,
   "metadata": {},
   "outputs": [],
   "source": [
    "# Let's make sentiment predictions for 5 movie reviews from IMDB web site."
   ]
  },
  {
   "cell_type": "code",
   "execution_count": 46,
   "metadata": {},
   "outputs": [
    {
     "data": {
      "text/plain": [
       "'negative'"
      ]
     },
     "execution_count": 46,
     "metadata": {},
     "output_type": "execute_result"
    }
   ],
   "source": [
    "# Tensor 0 has negative sentiment \n",
    "learn_cl.data.classes[0]"
   ]
  },
  {
   "cell_type": "code",
   "execution_count": 49,
   "metadata": {},
   "outputs": [
    {
     "data": {
      "text/plain": [
       "'positive'"
      ]
     },
     "execution_count": 49,
     "metadata": {},
     "output_type": "execute_result"
    }
   ],
   "source": [
    "# Tensor 1 has positive sentiment\n",
    "learn_cl.data.classes[1]"
   ]
  },
  {
   "cell_type": "code",
   "execution_count": 33,
   "metadata": {},
   "outputs": [
    {
     "data": {
      "text/plain": [
       "(Category tensor(1), tensor(1), tensor([0.0054, 0.9946]))"
      ]
     },
     "execution_count": 33,
     "metadata": {},
     "output_type": "execute_result"
    }
   ],
   "source": [
    "learn_cl.predict(\"Very beautiful and cinematic movie with lots of classic scenes.Also extremely sad at times.Absolute 90's classic.\")"
   ]
  },
  {
   "cell_type": "code",
   "execution_count": 34,
   "metadata": {},
   "outputs": [
    {
     "data": {
      "text/plain": [
       "(Category tensor(0), tensor(0), tensor([0.9943, 0.0057]))"
      ]
     },
     "execution_count": 34,
     "metadata": {},
     "output_type": "execute_result"
    }
   ],
   "source": [
    "learn_cl.predict(\"Worst movie of the century. A MUST see movie if you have a sleeping disorder.The money spent to make this movie could feed millions of starving children.John Cameron maybe an okay director but cannot hold a candle to Robert Wise.\")"
   ]
  },
  {
   "cell_type": "code",
   "execution_count": 35,
   "metadata": {},
   "outputs": [
    {
     "data": {
      "text/plain": [
       "(Category tensor(0), tensor(0), tensor([0.9721, 0.0279]))"
      ]
     },
     "execution_count": 35,
     "metadata": {},
     "output_type": "execute_result"
    }
   ],
   "source": [
    "learn_cl.predict(\"I thought this movie extremely disappointing. The characters were not very motivating, and the acting was horrible. I was not convinced of their roles at all. The story line was also very poor and unrealistic. I would not recommend this movie to anyone, instead I suggest the older version made in 1953. Although it isn't recent, the story is very moving and the ending quite touching.\")"
   ]
  },
  {
   "cell_type": "code",
   "execution_count": 36,
   "metadata": {},
   "outputs": [
    {
     "data": {
      "text/plain": [
       "(Category tensor(1), tensor(1), tensor([0.2513, 0.7487]))"
      ]
     },
     "execution_count": 36,
     "metadata": {},
     "output_type": "execute_result"
    }
   ],
   "source": [
    "learn_cl.predict(\"This one really draws you in. Keeps you thinking and emotionally engaged throughout the entire film. Great plot, relevant and terrific acting. Nuff said. Watch it.\")"
   ]
  },
  {
   "cell_type": "code",
   "execution_count": 48,
   "metadata": {},
   "outputs": [
    {
     "data": {
      "text/plain": [
       "(Category tensor(0), tensor(0), tensor([0.7846, 0.2154]))"
      ]
     },
     "execution_count": 48,
     "metadata": {},
     "output_type": "execute_result"
    }
   ],
   "source": [
    "learn_cl.predict(\"Watch this movie, get a stimulation of sense of justice so that you keep quiet for another decade.\")"
   ]
  }
 ],
 "metadata": {
  "kernelspec": {
   "display_name": "Python 3",
   "language": "python",
   "name": "python3"
  },
  "language_info": {
   "codemirror_mode": {
    "name": "ipython",
    "version": 3
   },
   "file_extension": ".py",
   "mimetype": "text/x-python",
   "name": "python",
   "nbconvert_exporter": "python",
   "pygments_lexer": "ipython3",
   "version": "3.7.6"
  }
 },
 "nbformat": 4,
 "nbformat_minor": 4
}
